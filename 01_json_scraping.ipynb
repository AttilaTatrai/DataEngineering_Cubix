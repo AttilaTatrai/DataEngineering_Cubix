{
 "cells": [
  {
   "cell_type": "code",
   "execution_count": 1,
   "metadata": {},
   "outputs": [
    {
     "name": "stdout",
     "output_type": "stream",
     "text": [
      "The name of the 31th strach is: Die For You\n",
      "31309112207\n",
      "The lowest playcount song is:  Si No Estás\n"
     ]
    }
   ],
   "source": [
    "import json\n",
    "\n",
    "file_path = r\"C:\\Users\\Ati\\Python\\DATA_ENG\\json_handling\\spotify_playlist.json\"\n",
    "\n",
    "with open(file_path, \"r\") as json_file:\n",
    "    data = json.load(json_file)\n",
    "\n",
    "print(\"The name of the 31th strach is: \" + data[\"contents\"][\"items\"][31][\"name\"]) #//2// 31. track neve\n",
    "\n",
    "total_playCount = 0\n",
    "for track in data[\"contents\"][\"items\"]:\n",
    "    total_playCount += track.get('playCount', 0)\n",
    "print(total_playCount) #3. total playcounts\n",
    "\n",
    "min_playcount = float('inf') \n",
    "min_playcount_track_name = None\n",
    "\n",
    "#//4//\n",
    "for track in data[\"contents\"][\"items\"]:\n",
    "    playcount = track[\"playCount\"]\n",
    "    if playcount < min_playcount:        \n",
    "        min_playcount = playcount\n",
    "        min_playcount_track_name = track[\"name\"]\n",
    "\n",
    "\n",
    "print(\"The lowest playcount song is: \", min_playcount_track_name)\n",
    "\n"
   ]
  }
 ],
 "metadata": {
  "kernelspec": {
   "display_name": "venv",
   "language": "python",
   "name": "python3"
  },
  "language_info": {
   "codemirror_mode": {
    "name": "ipython",
    "version": 3
   },
   "file_extension": ".py",
   "mimetype": "text/x-python",
   "name": "python",
   "nbconvert_exporter": "python",
   "pygments_lexer": "ipython3",
   "version": "3.12.0"
  }
 },
 "nbformat": 4,
 "nbformat_minor": 2
}
